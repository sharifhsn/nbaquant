{
 "cells": [
  {
   "cell_type": "markdown",
   "metadata": {},
   "source": [
    "# NBA Player Data Analysis Project\n",
    "\n",
    "## Project Outline\n",
    "\n",
    "1. **Introduction**\n",
    "   - Overview of the project\n",
    "   - Goals and objectives\n",
    "\n",
    "2. **Data Collection**\n",
    "   - Import necessary libraries\n",
    "   - Fetch player data from the NBA API\n",
    "\n",
    "3. **Data Processing**\n",
    "   - Load data into a Pandas DataFrame\n",
    "   - Data cleaning and transformation\n",
    "\n",
    "4. **Data Analysis**\n",
    "   - Exploratory data analysis (EDA)\n",
    "   - Visualizations\n",
    "\n",
    "5. **Conclusion**\n",
    "   - Summary of findings\n",
    "   - Future work\n"
   ]
  },
  {
   "cell_type": "markdown",
   "metadata": {},
   "source": [
    "## 0. Environment\n",
    "\n",
    "### Virtual Environment\n",
    "\n",
    "It's generally recommended that you use a virtual environment (or venv) for this project. That way, all dependencies can be installed for the project without affecting the rest of your system. You can create a venv with Python:\n",
    "\n",
    "`python -m venv .venv`\n",
    "\n",
    "To activate the virtual environment in your shell, you can use the following commands.\n",
    "\n",
    "On Windows:\n",
    "\n",
    "`.venv\\Scripts\\activate`\n",
    "\n",
    "On other operating systems:\n",
    "\n",
    "`.venv/bin/activate`"
   ]
  },
  {
   "cell_type": "markdown",
   "metadata": {},
   "source": [
    "### Dependencies\n",
    "\n",
    "This project uses [Poetry](https://python-poetry.org/) to manage its dependencies. You can install the dependencies with the `poetry` command:\n",
    "\n",
    "`poetry install`\n",
    "\n",
    "If you don't want to use Poetry, a `requirements.txt` is also provided. You can install this using `pip`:\n",
    "\n",
    "`pip install -r requirements.txt`"
   ]
  },
  {
   "cell_type": "markdown",
   "metadata": {},
   "source": [
    "### Imports"
   ]
  },
  {
   "cell_type": "code",
   "execution_count": null,
   "metadata": {},
   "outputs": [],
   "source": [
    "import requests\n",
    "import json\n",
    "import time\n",
    "import os\n",
    "from dotenv import load_dotenv\n",
    "import pandas as pd\n",
    "import matplotlib.pyplot as plt\n",
    "import seaborn as sns\n",
    "import numpy as np\n",
    "import scipy"
   ]
  },
  {
   "cell_type": "markdown",
   "metadata": {},
   "source": [
    "### Environment Variables\n",
    "\n",
    "This project uses the [BALLDONTLIE](https://app.balldontlie.io/) API, which has a free key available [if you sign up for an account](https://app.balldontlie.io/signup). We will load the API key from the .env file if available."
   ]
  },
  {
   "cell_type": "code",
   "execution_count": null,
   "metadata": {},
   "outputs": [],
   "source": [
    "load_dotenv()\n",
    "BALLDONTLIE_API_KEY = os.getenv(\"BALLDONTLIE_API_KEY\")"
   ]
  },
  {
   "cell_type": "markdown",
   "metadata": {},
   "source": [
    "### Notebook (Developer Only)\n",
    "\n",
    "This notebook uses `nbstripout` to strip notebook output from Git commits. If you are committing code, please run the following command to set up the Git filter."
   ]
  },
  {
   "cell_type": "code",
   "execution_count": null,
   "metadata": {
    "vscode": {
     "languageId": "shellscript"
    }
   },
   "outputs": [],
   "source": [
    "!nbstripout --install"
   ]
  },
  {
   "cell_type": "markdown",
   "metadata": {},
   "source": [
    "## 1. Data Collection\n",
    "\n",
    "### Fetch Player Data from NBA API\n",
    "\n",
    "Before we analyze the statistics for each players, we need to get a list of all players that had minutes in the 2023 season."
   ]
  },
  {
   "cell_type": "code",
   "execution_count": null,
   "metadata": {},
   "outputs": [],
   "source": [
    "BASE_URL = \"https://api.balldontlie.io/v1/\"\n",
    "PLAYERS_ENDPOINT = \"players\"\n",
    "PAGE_100 = \"per_page=100\"\n",
    "HEADERS = {\n",
    "    \"Authorization\": f\"{BALLDONTLIE_API_KEY}\"\n",
    "}\n",
    "ALL_PLAYERS_FILE = \"../data/all_players.json\"\n",
    "\n",
    "if os.path.exists(ALL_PLAYERS_FILE):\n",
    "    print(f\"{ALL_PLAYERS_FILE} already exists.\")\n",
    "    with open(ALL_PLAYERS_FILE, \"r\") as f:\n",
    "        all_players = json.load(f)\n",
    "else:\n",
    "    all_players = []\n",
    "    next_cursor = None\n",
    "\n",
    "    while True:\n",
    "        if next_cursor:\n",
    "            url = f\"{BASE_URL}{PLAYERS_ENDPOINT}?{PAGE_100}&cursor={next_cursor}\"\n",
    "        else:\n",
    "            url = f\"{BASE_URL}{PLAYERS_ENDPOINT}?{PAGE_100}\"\n",
    "        \n",
    "        response = requests.get(url, headers=HEADERS)\n",
    "        \n",
    "        if response.status_code == 200:\n",
    "            data = response.json()\n",
    "            all_players.extend(data[\"data\"])\n",
    "            next_cursor = data[\"meta\"].get(\"next_cursor\")\n",
    "            \n",
    "            if not next_cursor:\n",
    "                break\n",
    "            \n",
    "            time.sleep(2)\n",
    "        else:\n",
    "            print(f\"Request failed with status code {response.status_code}\")\n",
    "            break\n",
    "\n",
    "    # Save all players data to a JSON file\n",
    "    with open(ALL_PLAYERS_FILE, 'w') as f:\n",
    "        json.dump(all_players, f, indent=4)\n",
    "\n",
    "    print(f\"All player data has been saved to {ALL_PLAYERS_FILE}\")\n",
    "\n",
    "print(all_players[0])\n",
    "len(all_players)\n"
   ]
  },
  {
   "cell_type": "markdown",
   "metadata": {},
   "source": [
    "This JSON file contains a list of all players in the NBA. We're only concerned with the players from the current season, so we need to eliminate all the players who aren't. One quick heuristic we can use is draft year. Obviously, a player who was drafted in 1986 will not be playing now. We want to pick a cutoff year as close as possible to the currrent year to eliminate as many players as we can. The easiest way to do this is check the oldest players still playing in the NBA, mark them as exceptions, and use their draft year as a starting point.\n",
    "A list of the oldest players still in the NBA can be found at [this Wikipedia page](https://en.wikipedia.org/wiki/List_of_oldest_and_youngest_NBA_players#Active). We chose 2010 as the cutoff."
   ]
  },
  {
   "cell_type": "code",
   "execution_count": null,
   "metadata": {},
   "outputs": [],
   "source": [
    "OLD_PLAYERS = [\"LeBron James\", \"Chris Paul\", \"Kyle Lowry\", \"PJ Tucker\", \"Kevin Durant\", \"Al Horford\", \"Mike Conley\", \"Jeff Green\", \"Derrick Rose\", \"Russell Westbrook\", \"Kevin Love\", \"Eric Gordon\", \"Brook Lopez\", \"Nicolas Batum\", \"DeAndre Jordan\", \"James Harden\", \"Stephen Curry\", \"DeMar DeRozan\", \"Jrue Holiday\", \"Taj Gibson\", \"Paul George\"]\n",
    "all_players_after_2010 = [player for player in all_players if player[\"draft_year\"] == None or player[\"draft_year\"] > 2010 or f\"{player['first_name']} {player['last_name']}\" in OLD_PLAYERS]\n",
    "len(all_players_after_2010)"
   ]
  },
  {
   "cell_type": "markdown",
   "metadata": {},
   "source": [
    "You'll notice that we included players that have `null` for their draft year. That's because those players are undrafted. There are some undrafted players currently in the NBA, so we can't exclude them purely based on that fact. The website [2KRatings](https://www.2kratings.com/) maintains [a list](https://www.2kratings.com/lists/undrafted-nba-players) of all active undrafted players. This includes players in the G League, however. We decided to take the top 35 players as, after that point, the players play so few minutes that their stats will have a negligible impact on analysis."
   ]
  },
  {
   "cell_type": "code",
   "execution_count": null,
   "metadata": {},
   "outputs": [],
   "source": [
    "UNDRAFTED_PLAYERS = [\"Fred VanVleet\", \"Austin Reaves\", \"Naz Reid\", \"T.J. McConnell\", \"Luguentz Dort\", \"Alex Caruso\", \"Derrick Jones Jr.\", \"Duncan Robinson\", \"Simone Fontecchio\", \"Gary Payton II\", \"Max Strus\", \"Luke Kornet\", \"Jock Landale\", \"Christian Wood\", \"Caleb Martin\", \"Chris Boucher\", \"Dorian Finney-Smith\", \"Robert Covington\", \"Jose Alvarado\", \"Javonte Green\", \"Sam Hauser\", \"Keon Ellis\", \"Duop Reath\", \"Royce O'Neale\", \"Naji Marshall\", \"Scotty Pippen Jr.\", \"Haywood Highsmith\", \"Drew Eubanks\", \"Gabe Vincent\", \"Daniel Theis\", \"Maxi Kleber\", \"Jordan McLaughlin\", \"Jordan Goodwin\", \"Damion Lee\", \"Lamar Stevens\"]\n",
    "all_players_after_2010_without_undrafted = [player for player in all_players_after_2010 if player[\"draft_year\"] != None or f\"{player['first_name']} {player['last_name']}\" in UNDRAFTED_PLAYERS]\n",
    "len(all_players_after_2010_without_undrafted)"
   ]
  },
  {
   "cell_type": "markdown",
   "metadata": {},
   "source": [
    "### Get Stats for each Player\n",
    "\n",
    "Now that we've gotten our list of players, we can get the stats for each of them."
   ]
  },
  {
   "cell_type": "code",
   "execution_count": null,
   "metadata": {},
   "outputs": [],
   "source": [
    "STATS_ENDPOINT = \"stats\"\n",
    "# we only need stats from the latest season\n",
    "CURRENT_SEASON = \"seasons[]=2023\"\n",
    "ALL_PLAYERS_STATS_FILE = \"../data/all_players_stats.json\"\n",
    "\n",
    "if os.path.exists(ALL_PLAYERS_STATS_FILE):\n",
    "    print(f\"{ALL_PLAYERS_STATS_FILE} already exists.\")\n",
    "    with open(ALL_PLAYERS_STATS_FILE, \"r\") as f:\n",
    "        all_players_stats = json.load(f)\n",
    "else:\n",
    "    all_players_stats = {}\n",
    "    \n",
    "    for index, player in enumerate(all_players_after_2010_without_undrafted):\n",
    "        # we only need to query this once because there are fewer than 100 games in a season\n",
    "        url = f\"{BASE_URL}{STATS_ENDPOINT}?{PAGE_100}&{CURRENT_SEASON}&player_ids[]={player['id']}\"\n",
    "        response = requests.get(url, headers=HEADERS)\n",
    "\n",
    "        if response.status_code == 200:\n",
    "            data = response.json()\n",
    "            all_players_stats.update({player[\"id\"]: data[\"data\"]})\n",
    "            print(f\"Downloaded {index} of {len(all_players_after_2010_without_undrafted)}\", end=\"\\r\")\n",
    "            time.sleep(2)\n",
    "        else:\n",
    "            print(f\"Request failed with status code {response.status_code}\")\n",
    "            break\n",
    "    \n",
    "    with open(ALL_PLAYERS_STATS_FILE, \"w\") as f:\n",
    "        json.dump(all_players_stats, f)\n",
    "    \n",
    "    print(f\"All player data has been saved to {ALL_PLAYERS_STATS_FILE}\")\n",
    "\n",
    "print(all_players_stats[\"15\"])"
   ]
  },
  {
   "cell_type": "markdown",
   "metadata": {},
   "source": [
    "Although we've eliminated most of the players who aren't playing in the current season, some false positives remain. We can take care of the ones that didn't play at all by checking to see if their stats are an empty list."
   ]
  },
  {
   "cell_type": "code",
   "execution_count": null,
   "metadata": {},
   "outputs": [],
   "source": [
    "all_players_stats_current_season = {player_id: stats for player_id, stats in all_players_stats.items() if stats}\n",
    "len(all_players_stats_current_season)"
   ]
  },
  {
   "cell_type": "markdown",
   "metadata": {},
   "source": [
    "We're also only really concerned with players that have significant play time. We generally define this as having an average of at least 16 minutes per game."
   ]
  },
  {
   "cell_type": "code",
   "execution_count": null,
   "metadata": {},
   "outputs": [],
   "source": [
    "all_players_stats_current_season_with_16_mins = {player_id: stats for player_id, stats in all_players_stats_current_season.items() if sum(int(stat[\"min\"]) for stat in stats) / len(stats) >= 16}\n",
    "len(all_players_stats_current_season_with_16_mins)"
   ]
  },
  {
   "cell_type": "markdown",
   "metadata": {},
   "source": [
    "Finally, we have to exclude games where the players didn't play as those would skew the results, i.e. games where they played 0 minutes."
   ]
  },
  {
   "cell_type": "code",
   "execution_count": null,
   "metadata": {},
   "outputs": [],
   "source": [
    "all_players_stats_current_season_with_16_mins_and_play_time = {player_id: [stat for stat in stats if int(stat[\"min\"]) > 0] for player_id, stats in all_players_stats_current_season_with_16_mins.items()}"
   ]
  },
  {
   "cell_type": "markdown",
   "metadata": {},
   "source": [
    "## Data Formatting\n",
    "\n",
    "We used a Pandas dataframe to store these stats for each player. In addition to the direct statistics recorded like points and rebounds, we added an additional `is_home` indicator which is true when the game was played at home."
   ]
  },
  {
   "cell_type": "code",
   "execution_count": null,
   "metadata": {},
   "outputs": [],
   "source": [
    "df = pd.DataFrame()\n",
    "for player_id, stats in all_players_stats_current_season_with_16_mins_and_play_time.items():\n",
    "    desired_stats = [\"fgm\", \"fga\", \"fg_pct\", \"fg3m\", \"fg3a\", \"fg3_pct\", \"ftm\", \"fta\", \"ft_pct\", \"oreb\", \"dreb\", \"reb\", \"ast\", \"stl\", \"blk\", \"turnover\", \"pf\", \"pts\"]\n",
    "    data = {\n",
    "        \"player_id\": int(player_id),\n",
    "        \"player_name\": f\"{stats[0]['player']['first_name']} {stats[0]['player']['last_name']}\",\n",
    "    }\n",
    "    data[\"min\"] = [int(stat[\"min\"]) for stat in stats]\n",
    "    for desired_stat in desired_stats:\n",
    "        data[desired_stat] = [stat[desired_stat] for stat in stats]\n",
    "    data[\"is_home\"] = [stat[\"game\"][\"home_team_id\"] == stat[\"team\"][\"id\"] for stat in stats]\n",
    "    df_player = pd.DataFrame(data=data)\n",
    "    df = pd.concat([df, df_player], ignore_index=True)\n",
    "# df.to_excel(\"NBA_2023_Stats.xlsx\")\n",
    "df"
   ]
  },
  {
   "cell_type": "markdown",
   "metadata": {},
   "source": [
    "Let's consolidate all of these "
   ]
  },
  {
   "cell_type": "code",
   "execution_count": null,
   "metadata": {},
   "outputs": [],
   "source": [
    "desired_stats = [\"min\", \"fgm\", \"fga\", \"fg_pct\", \"fg3m\", \"fg3a\", \"fg3_pct\", \"ftm\", \"fta\", \"ft_pct\", \"oreb\", \"dreb\", \"reb\", \"ast\", \"stl\", \"blk\", \"turnover\", \"pf\", \"pts\"]\n",
    "\n",
    "df_grouped = df.groupby(\"player_id\").agg(\n",
    "    player_name=(\"player_name\", \"first\"),\n",
    "    # min=(\"min\", \"mean\"),\n",
    "    # fgm=(\"fgm\", \"mean\"),\n",
    "    # fga=(\"fga\", \"mean\"),\n",
    "    # fg_pct=(\"fg_pct\", \"mean\"),\n",
    "    fg3m=(\"fg3m\", \"mean\"),\n",
    "    fg3a=(\"fg3a\", \"mean\"),\n",
    "    fg3_pct=(\"fg3_pct\", \"mean\"),\n",
    "    # ftm=(\"ftm\", \"mean\"),\n",
    "    # fta=(\"fta\", \"mean\"),\n",
    "    # ft_pct=(\"ft_pct\", \"mean\"),\n",
    "    # oreb=(\"oreb\", \"mean\"),\n",
    "    # dreb=(\"dreb\", \"mean\"),\n",
    "    # reb=(\"reb\", \"std\"),\n",
    "    # ast=(\"ast\", \"mean\"),\n",
    "    # stl=(\"stl\", \"std\"),\n",
    "    # blk=(\"blk\", \"mean\"),\n",
    "    # turnover=(\"turnover\", \"mean\"),\n",
    "    # pf=(\"pf\", \"mean\"),\n",
    "    # pts=(\"pts\", \"var\"),\n",
    "    # is_home=(\"is_home\", \"mean\")\n",
    ")\n",
    "# print(df.groupby(\"player_id\")[\"pts\"].std().reset_index().sort_values(\"pts\"))\n",
    "df_grouped_over_35 = df_grouped[df_grouped[\"fg3_pct\"] > 0.35]\n",
    "df_grouped_over_35_over_3 = df_grouped_over_35[df_grouped_over_35[\"fg3a\"] > 3]\n",
    "df_grouped_over_35_over_3.sort_values(\"fg3_pct\")\n",
    "df_grouped_over_35_over_3.to_excel(\"3 Point Stats for over 0.35 percentage and 3 makes average.xlsx\")"
   ]
  },
  {
   "cell_type": "code",
   "execution_count": null,
   "metadata": {},
   "outputs": [],
   "source": [
    "# distribution of shai's scores\n",
    "import scipy.stats\n",
    "\n",
    "stat = \"pts\"\n",
    "df_jaylen = df.loc[df.loc[:, \"player_id\"] == 70, :]\n",
    "\n",
    "plt.figure(figsize=(10, 6))\n",
    "sns.histplot(df_jaylen.loc[:, stat], bins=20, kde=True, stat=\"density\", color=\"skyblue\", label=\"Steals Histogram\")\n",
    "\n",
    "\n",
    "mu, std = scipy.stats.norm.fit(df_jaylen.loc[:, stat])\n",
    "\n",
    "xmin, xmax = plt.xlim()\n",
    "x = np.linspace(xmin, xmax, 100)\n",
    "p = scipy.stats.norm.pdf(x, mu, std)\n",
    "plt.plot(x, p, \"k\", linewidth=2, label=\"Normal Distribution Fit\")\n",
    "\n",
    "# plt.xlabel(\"Number of Steals\")\n",
    "# plt.ylabel(\"Density\")\n",
    "# plt.title(\"Histogram of Steals with Normal Distribution Fit\")\n",
    "\n",
    "print(scipy.stats.jarque_bera(df_jaylen.loc[:, stat]))\n",
    "\n",
    "plt.show()"
   ]
  },
  {
   "cell_type": "code",
   "execution_count": null,
   "metadata": {},
   "outputs": [],
   "source": []
  }
 ],
 "metadata": {
  "kernelspec": {
   "display_name": ".venv",
   "language": "python",
   "name": "python3"
  },
  "language_info": {
   "codemirror_mode": {
    "name": "ipython",
    "version": 3
   },
   "file_extension": ".py",
   "mimetype": "text/x-python",
   "name": "python",
   "nbconvert_exporter": "python",
   "pygments_lexer": "ipython3",
   "version": "3.10.11"
  }
 },
 "nbformat": 4,
 "nbformat_minor": 2
}
