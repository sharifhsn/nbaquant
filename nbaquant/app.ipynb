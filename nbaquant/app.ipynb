{
 "cells": [
  {
   "cell_type": "markdown",
   "metadata": {},
   "source": [
    "# NBA Player Data Analysis Project\n",
    "\n",
    "## Project Outline\n",
    "\n",
    "1. **Introduction**\n",
    "   - Overview of the project\n",
    "   - Goals and objectives\n",
    "\n",
    "2. **Data Collection**\n",
    "   - Import necessary libraries\n",
    "   - Fetch player data from the NBA API\n",
    "\n",
    "3. **Data Processing**\n",
    "   - Load data into a Pandas DataFrame\n",
    "   - Data cleaning and transformation\n",
    "\n",
    "4. **Data Analysis**\n",
    "   - Exploratory data analysis (EDA)\n",
    "   - Visualizations\n",
    "\n",
    "5. **Conclusion**\n",
    "   - Summary of findings\n",
    "   - Future work\n"
   ]
  },
  {
   "cell_type": "markdown",
   "metadata": {},
   "source": [
    "## 0. Environment\n",
    "\n",
    "### Virtual Environment\n",
    "\n",
    "It's generally recommended that you use a virtual environment (or venv) for this project. That way, all dependencies can be installed for the project without affecting the rest of your system. You can create a venv with Python:\n",
    "\n",
    "`python -m venv .venv`\n",
    "\n",
    "To activate the virtual environment in your shell, you can use the following commands.\n",
    "\n",
    "On Windows:\n",
    "\n",
    "`.venv\\Scripts\\activate`\n",
    "\n",
    "On other operating systems:\n",
    "\n",
    "`.venv/bin/activate`"
   ]
  },
  {
   "cell_type": "markdown",
   "metadata": {},
   "source": [
    "### Dependencies\n",
    "\n",
    "This project uses [Poetry](https://python-poetry.org/) to manage its dependencies. You can install the dependencies with the `poetry` command:\n",
    "\n",
    "`poetry install`\n",
    "\n",
    "If you don't want to use Poetry, a `requirements.txt` is also provided. You can install this using `pip`:\n",
    "\n",
    "`pip install -r requirements.txt`"
   ]
  },
  {
   "cell_type": "markdown",
   "metadata": {},
   "source": [
    "### Imports"
   ]
  },
  {
   "cell_type": "code",
   "execution_count": null,
   "metadata": {},
   "outputs": [],
   "source": [
    "import requests\n",
    "import json\n",
    "import time\n",
    "import os\n",
    "from dotenv import load_dotenv"
   ]
  },
  {
   "cell_type": "markdown",
   "metadata": {},
   "source": [
    "### Environment Variables\n",
    "\n",
    "This project uses the [BALLDONTLIE](https://app.balldontlie.io/) API, which has a free key available [if you sign up for an account](https://app.balldontlie.io/signup). We will load the API key from the .env file if available."
   ]
  },
  {
   "cell_type": "code",
   "execution_count": null,
   "metadata": {},
   "outputs": [],
   "source": [
    "load_dotenv()\n",
    "BALLDONTLIE_API_KEY = os.getenv(\"BALLDONTLIE_API_KEY\")"
   ]
  },
  {
   "cell_type": "markdown",
   "metadata": {},
   "source": [
    "### Notebook (Developer Only)\n",
    "\n",
    "This notebook uses `nbstripout` to strip notebook output from Git commits. If you are committing code, please run the following command to set up the Git filter."
   ]
  },
  {
   "cell_type": "code",
   "execution_count": null,
   "metadata": {
    "vscode": {
     "languageId": "shellscript"
    }
   },
   "outputs": [],
   "source": [
    "!nbstripout --install"
   ]
  },
  {
   "cell_type": "markdown",
   "metadata": {},
   "source": [
    "## 1. Data Collection\n",
    "\n",
    "### Fetch Player Data from NBA API\n",
    "\n",
    "Before we analyze the statistics for each players, we need to get a list of all players that had minutes in the 2023 season."
   ]
  },
  {
   "cell_type": "code",
   "execution_count": null,
   "metadata": {},
   "outputs": [],
   "source": [
    "BASE_PLAYERS_URL = \"https://api.balldontlie.io/v1/players\"\n",
    "HEADERS = {\n",
    "    \"Authorization\": f\"{BALLDONTLIE_API_KEY}\"\n",
    "}\n",
    "OUTPUT_FILE = \"../data/all_players.json\"\n",
    "\n",
    "# Check if the JSON file already exists\n",
    "if os.path.exists(OUTPUT_FILE):\n",
    "    print(f\"{OUTPUT_FILE} already exists.\")\n",
    "    with open(OUTPUT_FILE, \"r\") as f:\n",
    "        all_players = json.load(f)\n",
    "else:\n",
    "    all_players = []\n",
    "    next_cursor = None\n",
    "\n",
    "    while True:\n",
    "        if next_cursor:\n",
    "            url = f\"{BASE_PLAYERS_URL}?cursor={next_cursor}\"\n",
    "        else:\n",
    "            url = BASE_PLAYERS_URL\n",
    "        \n",
    "        response = requests.get(url, headers=HEADERS)\n",
    "        \n",
    "        if response.status_code == 200:\n",
    "            data = response.json()\n",
    "            all_players.extend(data[\"data\"])\n",
    "            next_cursor = data[\"meta\"].get(\"next_cursor\")\n",
    "            \n",
    "            if not next_cursor:\n",
    "                break\n",
    "            \n",
    "            time.sleep(2)  # Sleep for 2 seconds before the next request\n",
    "        else:\n",
    "            print(f\"Request failed with status code {response.status_code}\")\n",
    "            break\n",
    "\n",
    "    # Save all players data to a JSON file\n",
    "    with open(OUTPUT_FILE, 'w') as file:\n",
    "        json.dump(all_players, file, indent=4)\n",
    "\n",
    "    print(f\"All player data has been saved to {OUTPUT_FILE}\")\n",
    "\n",
    "print(all_players[0])\n",
    "len(all_players)\n"
   ]
  },
  {
   "cell_type": "markdown",
   "metadata": {},
   "source": [
    "This JSON file contains a list of all players in the NBA. We're only concerned with the players from the current season, so we need to eliminate all the players who aren't. One quick heuristic we can use is draft year. Obviously, a player who was drafted in 1986 will not be playing now. We want to pick a cutoff year as close as possible to the currrent year to eliminate as many players as we can. The easiest way to do this is check the oldest players still playing in the NBA, mark them as exceptions, and use their draft year as a starting point.\n",
    "A list of the oldest players still in the NBA can be found at [this Wikipedia page](https://en.wikipedia.org/wiki/List_of_oldest_and_youngest_NBA_players#Active). I chose 2010 as the cutoff."
   ]
  },
  {
   "cell_type": "code",
   "execution_count": null,
   "metadata": {},
   "outputs": [],
   "source": [
    "OLD_PLAYERS = [\"LeBron James\", \"Chris Paul\", \"Kyle Lowry\", \"PJ Tucker\", \"Kevin Durant\", \"Al Horford\", \"Mike Conley\", \"Jeff Green\", \"Derrick Rose\", \"Russell Westbrook\", \"Kevin Love\", \"Eric Gordon\", \"Brook Lopez\", \"Nicolas Batum\", \"DeAndre Jordan\", \"James Harden\", \"Stephen Curry\", \"DeMar DeRozan\", \"Jrue Holiday\", \"Taj Gibson\", \"Paul George\"]\n",
    "all_players_after_2010 = [player for player in all_players if player[\"draft_year\"] == None or player[\"draft_year\"] > 2010 or f\"{player[\"first_name\"]} {player[\"last_name\"]}\" in OLD_PLAYERS]\n",
    "len(all_players_after_2010)"
   ]
  },
  {
   "cell_type": "markdown",
   "metadata": {},
   "source": [
    "You'll notice that I included players that have `null` for their draft year. That's because those players are undrafted. There are some undrafted players currently in the NBA, so we can't exclude them purely based on that fact. The website [2KRatings](https://www.2kratings.com/) maintains [a list](https://www.2kratings.com/lists/undrafted-nba-players) of all active undrafted players. This includes players in the G League, however. I decided to take the top 35 players as, after that point, the players play so few minutes that their stats will have a negligible impact on analysis."
   ]
  },
  {
   "cell_type": "code",
   "execution_count": null,
   "metadata": {},
   "outputs": [],
   "source": [
    "UNDRAFTED_PLAYERS = [\"Fred VanVleet\", \"Austin Reaves\", \"Naz Reid\", \"T.J. McConnell\", \"Luguentz Dort\", \"Alex Caruso\", \"Derrick Jones Jr.\", \"Duncan Robinson\", \"Simone Fontecchio\", \"Gary Payton II\", \"Max Strus\", \"Luke Kornet\", \"Jock Landale\", \"Christian Wood\", \"Caleb Martin\", \"Chris Boucher\", \"Dorian Finney-Smith\", \"Robert Covington\", \"Jose Alvarado\", \"Javonte Green\", \"Sam Hauser\", \"Keon Ellis\", \"Duop Reath\", \"Royce O'Neale\", \"Naji Marshall\", \"Scotty Pippen Jr.\", \"Haywood Highsmith\", \"Drew Eubanks\", \"Gabe Vincent\", \"Daniel Theis\", \"Maxi Kleber\", \"Jordan McLaughlin\", \"Jordan Goodwin\", \"Damion Lee\", \"Lamar Stevens\"]\n",
    "all_players_after_2010_without_undrafted = [player for player in all_players_after_2010 if player[\"draft_year\"] != None or f\"{player[\"first_name\"]} {player[\"last_name\"]}\" in UNDRAFTED_PLAYERS]\n",
    "len(all_players_after_2010_without_undrafted)"
   ]
  },
  {
   "cell_type": "markdown",
   "metadata": {},
   "source": [
    "### Get Stats for each Player\n",
    "\n",
    "Now that we've gotten our list of players, we can get the stats for each of them."
   ]
  }
 ],
 "metadata": {
  "kernelspec": {
   "display_name": ".venv",
   "language": "python",
   "name": "python3"
  },
  "language_info": {
   "codemirror_mode": {
    "name": "ipython",
    "version": 3
   },
   "file_extension": ".py",
   "mimetype": "text/x-python",
   "name": "python",
   "nbconvert_exporter": "python",
   "pygments_lexer": "ipython3",
   "version": "3.12.4"
  }
 },
 "nbformat": 4,
 "nbformat_minor": 2
}
